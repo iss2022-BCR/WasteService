{
 "cells": [
  {
   "cell_type": "markdown",
   "metadata": {},
   "source": [
    "## mqttPlotQakEvents.py"
   ]
  },
  {
   "cell_type": "code",
   "execution_count": null,
   "metadata": {},
   "outputs": [],
   "source": [
    "import time\n",
    "import paho.mqtt.client as paho\n",
    "import matplotlib.pyplot as plt\n",
    "\n",
    "brokerAddr=\"broker.hivemq.com\"\n",
    "duration = 20\n",
    "x        = []\n",
    "y        = []\n",
    "z        = []\n",
    "goon     = True\n",
    "msgnum   = 0 \n",
    "###  msg(sonarRobot,event,sonar,none,sonar(V),N)\n",
    "def on_message(client, userdata, message) :   #define callback\n",
    "    global msgnum,  x,y,z, goon\n",
    "    if not goon :\n",
    "        return\n",
    "    evMsg   = str( message.payload.decode(\"utf-8\")  )\n",
    "    msgitems = evMsg.split(\",\")\n",
    "    if msgnum < 30  :\n",
    "        msgnum = msgnum + 1\n",
    "        vz = float( msgitems[4].split('(')[1].split(')')[0] )\n",
    "        if msgnum % 10 == 0  :\n",
    "            print(\"evMsg=\", evMsg, vz   )  \n",
    "        x.append( vz )\n",
    "    else  :\n",
    "        print(\"evMsg plot=\", evMsg, \"msgnum=\",  msgitems[4] )\n",
    "        plt.plot(list(x), color='red')\n",
    "        plt.show()\n",
    "        goon = False\n",
    "        client.disconnect()\n",
    "    \n",
    "client= paho.Client(\"receiver\")      \n",
    "client.on_message=on_message            # Bind function to callback\n",
    "\n",
    "client.connect(brokerAddr)              #connect\n",
    "print(\"connected to broker \", brokerAddr)\n",
    "print(\"subscribing to unibo/qak/events\")\n",
    "client.subscribe(\"unibo/qak/events\")      #subscribe\n",
    "\n",
    "print(\"collecting values; please wait ...\" )\n",
    "client.loop_start()             #start loop to process received messages\n",
    "time.sleep(duration)\n",
    "client.disconnect()             #disconnect\n",
    "print(\"bye\")\n",
    "client.loop_stop()              #stop loop        \n"
   ]
  },
  {
   "cell_type": "code",
   "execution_count": null,
   "metadata": {},
   "outputs": [],
   "source": []
  }
 ],
 "metadata": {
  "kernelspec": {
   "display_name": "Python 3",
   "language": "python",
   "name": "python3"
  },
  "language_info": {
   "codemirror_mode": {
    "name": "ipython",
    "version": 3
   },
   "file_extension": ".py",
   "mimetype": "text/x-python",
   "name": "python",
   "nbconvert_exporter": "python",
   "pygments_lexer": "ipython3",
   "version": "3.7.3"
  }
 },
 "nbformat": 4,
 "nbformat_minor": 2
}
